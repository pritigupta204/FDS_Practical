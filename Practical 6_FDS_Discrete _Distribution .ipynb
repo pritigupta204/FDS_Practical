{
 "cells": [
  {
   "cell_type": "code",
   "execution_count": 1,
   "id": "1b701d8e",
   "metadata": {},
   "outputs": [],
   "source": [
    "# for inline plots in jupyter\n",
    "%matplotlib inline\n",
    "import matplotlib.pyplot as plt\n",
    "# for latex equations\n",
    "from IPython.display import Math ,Latex\n",
    "# for displaying image\n",
    "\n",
    "from IPython.core.display import Image\n",
    "import numpy as np\n"
   ]
  },
  {
   "cell_type": "code",
   "execution_count": 2,
   "id": "63f423e6",
   "metadata": {},
   "outputs": [],
   "source": [
    "import seaborn as sns\n",
    "sns.set(color_codes = True)\n",
    "sns.set(rc = {'figure.figsize' : (5,5)})"
   ]
  },
  {
   "cell_type": "markdown",
   "id": "6ab5c758",
   "metadata": {},
   "source": [
    "# UNIFORM DISTRIBUTION"
   ]
  },
  {
   "cell_type": "code",
   "execution_count": 7,
   "id": "77755f5c",
   "metadata": {},
   "outputs": [
    {
     "data": {
      "text/plain": [
       "<matplotlib.collections.LineCollection at 0x2006af52f70>"
      ]
     },
     "execution_count": 7,
     "metadata": {},
     "output_type": "execute_result"
    },
    {
     "data": {
      "image/png": "[encoded data removed]",
      "text/plain": [
       "<Figure size 360x360 with 1 Axes>"
      ]
     },
     "metadata": {},
     "output_type": "display_data"
    }
   ],
   "source": [
    "from scipy.stats import randint\n",
    "import matplotlib.pyplot as plt\n",
    "fig, ax = plt.subplots(1,1)\n",
    "\n",
    "# cal a few 1st moments:\n",
    "low, high = 7,31\n",
    "mean, var, skew, kurt = randint.stats(low , high, moments = 'mvsk')\n",
    "\n",
    "# Display pmf\n",
    "x = np.arange (randint.ppf(0.01,low, high), randint.ppf(0.99,low,high))\n",
    "ax.plot(x,randint.pmf(x, low, high ), 'bo' , ms = 8, label = 'randint pmf')\n",
    "ax.vlines(x, 0, randint.pmf(x,low,high), colors = 'b' ,lw = 5, alpha = 0.5)\n"
   ]
  },
  {
   "cell_type": "code",
   "execution_count": 8,
   "id": "dc34ea87",
   "metadata": {},
   "outputs": [
    {
     "data": {
      "text/plain": [
       "array([ 7.,  8.,  9., 10., 11., 12., 13., 14., 15., 16., 17., 18., 19.,\n",
       "       20., 21., 22., 23., 24., 25., 26., 27., 28., 29.])"
      ]
     },
     "execution_count": 8,
     "metadata": {},
     "output_type": "execute_result"
    }
   ],
   "source": [
    "x\n"
   ]
  },
  {
   "cell_type": "code",
   "execution_count": 9,
   "id": "7d54c3f0",
   "metadata": {},
   "outputs": [
    {
     "data": {
      "text/plain": [
       "array([0.04166667, 0.08333333, 0.125     , 0.16666667, 0.20833333,\n",
       "       0.25      , 0.29166667, 0.33333333, 0.375     , 0.41666667,\n",
       "       0.45833333, 0.5       , 0.54166667, 0.58333333, 0.625     ,\n",
       "       0.66666667, 0.70833333, 0.75      , 0.79166667, 0.83333333,\n",
       "       0.875     , 0.91666667, 0.95833333])"
      ]
     },
     "execution_count": 9,
     "metadata": {},
     "output_type": "execute_result"
    }
   ],
   "source": [
    "prob = randint.cdf(x,low,high)\n",
    "prob"
   ]
  },
  {
   "cell_type": "markdown",
   "id": "d12c6d76",
   "metadata": {},
   "source": [
    "# Bernoulli Distribution"
   ]
  },
  {
   "cell_type": "code",
   "execution_count": 10,
   "id": "720323f1",
   "metadata": {},
   "outputs": [],
   "source": [
    "from scipy.stats import bernoulli \n",
    "data_bern = bernoulli.rvs(size = 10000 , p=0.6)"
   ]
  },
  {
   "cell_type": "code",
   "execution_count": 16,
   "id": "4aa8ee77",
   "metadata": {},
   "outputs": [
    {
     "data": {
      "text/plain": [
       "[Text(0.5, 0, 'Bernoulli Distribution'), Text(0, 0.5, 'freq')]"
      ]
     },
     "execution_count": 16,
     "metadata": {},
     "output_type": "execute_result"
    },
    {
     "data": {
      "image/png": "[encoded data removed]",
      "text/plain": [
       "<Figure size 360x360 with 1 Axes>"
      ]
     },
     "metadata": {},
     "output_type": "display_data"
    }
   ],
   "source": [
    "ax = sns.distplot (data_bern, kde = False, color = \"blue\",\n",
    "                   hist_kws = {'linewidth': 15 , 'alpha':1})\n",
    "ax.set(xlabel = \"Bernoulli Distribution\" , ylabel = \"freq\")"
   ]
  },
  {
   "cell_type": "markdown",
   "id": "384b829d",
   "metadata": {},
   "source": [
    "# Binomial Distn"
   ]
  },
  {
   "cell_type": "code",
   "execution_count": 15,
   "id": "ea993031",
   "metadata": {},
   "outputs": [],
   "source": [
    "from scipy.stats import binom\n",
    "data_binom = binom.rvs(n = 10, p= 0.8, size =10000)\n"
   ]
  },
  {
   "cell_type": "code",
   "execution_count": 18,
   "id": "b21b4eb0",
   "metadata": {},
   "outputs": [
    {
     "data": {
      "text/plain": [
       "[Text(0.5, 0, ' Binomial Distn'), Text(0, 0.5, 'freq')]"
      ]
     },
     "execution_count": 18,
     "metadata": {},
     "output_type": "execute_result"
    },
    {
     "data": {
      "image/png": "[encoded data removed]",
      "text/plain": [
       "<Figure size 360x360 with 1 Axes>"
      ]
     },
     "metadata": {},
     "output_type": "display_data"
    }
   ],
   "source": [
    "ax = sns.distplot(data_binom, kde = False, color = 'skyblue', hist_kws = {\"linewidth\": 15, 'alpha':1})\n",
    "\n",
    "ax.set(xlabel = ' Binomial Distn', ylabel = 'freq')"
   ]
  },
  {
   "cell_type": "markdown",
   "id": "4e159024",
   "metadata": {},
   "source": [
    "# Poisson Distn\n"
   ]
  },
  {
   "cell_type": "code",
   "execution_count": 20,
   "id": "baf920c1",
   "metadata": {},
   "outputs": [],
   "source": [
    "from scipy.stats import poisson \n",
    "data_poisson = poisson.rvs(mu = 3, size=10000)\n"
   ]
  },
  {
   "cell_type": "code",
   "execution_count": 21,
   "id": "fc7458cb",
   "metadata": {},
   "outputs": [
    {
     "data": {
      "text/plain": [
       "[Text(0.5, 0, 'poission dist'), Text(0, 0.5, ' freq')]"
      ]
     },
     "execution_count": 21,
     "metadata": {},
     "output_type": "execute_result"
    },
    {
     "data": {
      "image/png": "[encoded data removed]",
      "text/plain": [
       "<Figure size 360x360 with 1 Axes>"
      ]
     },
     "metadata": {},
     "output_type": "display_data"
    }
   ],
   "source": [
    "ax = sns.distplot(data_poisson, bins = 30, kde = False, color = 'blue',\n",
    "                 hist_kws = {\"linewidth\":15, 'alpha':1})\n",
    "ax.set(xlabel= 'poission dist' , ylabel = ' freq')"
   ]
  },
  {
   "cell_type": "code",
   "execution_count": null,
   "id": "a3ed712c",
   "metadata": {},
   "outputs": [],
   "source": []
  }
 ],
 "metadata": {
  "kernelspec": {
   "display_name": "Python 3",
   "language": "python",
   "name": "python3"
  },
  "language_info": {
   "codemirror_mode": {
    "name": "ipython",
    "version": 3
   },
   "file_extension": ".py",
   "mimetype": "text/x-python",
   "name": "python",
   "nbconvert_exporter": "python",
   "pygments_lexer": "ipython3",
   "version": "3.8.8"
  }
 },
 "nbformat": 4,
 "nbformat_minor": 5
}
