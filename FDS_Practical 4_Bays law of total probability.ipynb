{
 "cells": [
  {
   "cell_type": "code",
   "execution_count": 3,
   "id": "06ac9b64",
   "metadata": {},
   "outputs": [
    {
     "name": "stdout",
     "output_type": "stream",
     "text": [
      "P(A/B)  = 0.339%\n"
     ]
    }
   ],
   "source": [
    "# Calaulate p(A/B) given p(A)=0.02% , p(B/A)=85%, p(B/notA)\n",
    "def bayes_law(p_a,p_b_given_a,p_b_given_not_a):\n",
    "    # calculating p(not A)\n",
    "    not_a = 1 - p_a\n",
    "    \n",
    "    #calculating P(B)\n",
    "    p_b = p_b_given_a * p_a + p_b_given_not_a * not_a\n",
    "    \n",
    "    #calculating P(A/B)\n",
    "    p_a_given_b = (p_b_given_a * p_a) / p_b\n",
    "    \n",
    "    return p_a_given_b\n",
    "\n",
    "p_a = 0.0002\n",
    "p_b_given_a = 0.85\n",
    "p_b_given_not_a = 0.05\n",
    "\n",
    "result = bayes_law(p_a,p_b_given_a,p_b_given_not_a)\n",
    "print('P(A/B)  = %.3f%%' % (result *100))"
   ]
  },
  {
   "cell_type": "markdown",
   "id": "9183aa24",
   "metadata": {},
   "source": [
    "In our scenario we were given 3 pieces of information, the base rate sensitivity (or true positive rate), and the specificity (or true negative rate).\n",
    "Sensitivity : 85% of people with cancer will get a positive test result.\n",
    "Base Rate : 0.02% of people have cancer.\n",
    "Specificity : 95% of people without cancer will get a negative test result.\n",
    "we did not have the P(Test=Positive), but we calculated it give what we already had available.\n",
    "\n",
    "we might imagine that Bayes Theroem allows us to be even more precise about a given scenario. For ex. if we had more information about the patient (e.g. their age) and about the domain (e.g. cancer rate for age ranges), and in turn we could offer an even more accurate probability estimate."
   ]
  },
  {
   "cell_type": "code",
   "execution_count": 1,
   "id": "64951dec",
   "metadata": {},
   "outputs": [
    {
     "name": "stdout",
     "output_type": "stream",
     "text": [
      "P(A/B)  = 0.339%\n"
     ]
    }
   ],
   "source": [
    "# Calaulate p(A/B) given p(A)=0.02% , p(B/A)=85%, p(B/notA)\n",
    "def bayes_law(p_a,p_b_given_a,p_b_given_not_a):\n",
    "    # calculating p(not A)\n",
    "    not_a = 1 - p_a\n",
    "    \n",
    "    #calculating P(B)\n",
    "    p_b = p_b_given_a * p_a + p_b_given_not_a * not_a\n",
    "    \n",
    "    #calculating P(A/B)\n",
    "    p_a_given_b = (p_b_given_a * p_a) / p_b\n",
    "    \n",
    "    return p_a_given_b\n",
    "\n",
    "p_a = 0.0002\n",
    "p_b_given_a = 0.85\n",
    "p_b_given_not_a = 0.05\n",
    "\n",
    "result = bayes_law(p_a,p_b_given_a,p_b_given_not_a)\n",
    "print('P(A/B)  = %.3f%%' % (result *100))"
   ]
  },
  {
   "cell_type": "markdown",
   "id": "a7938079",
   "metadata": {},
   "source": [
    "Spam problem P(spam) = 30% , P(not spam) = 70% , P(congratulation/spam) = 75% P(congratulation/not spam) = 35%\n",
    "\n",
    "It means if it is gemine email then there is 35% chance if mail contains word congratulation then it is not spam\n",
    "\n",
    "solve the problem fix the email containing word \"congratulation \" given spam . What is th probability of email is spam if it contains word congratulations ? \n",
    "P(spam/ congratulation ) = ?  It means if i see word congratulation in an email then what is the chance the email is dpam than we want to solve. \n"
   ]
  },
  {
   "cell_type": "code",
   "execution_count": 2,
   "id": "bf4bd7c2",
   "metadata": {},
   "outputs": [
    {
     "name": "stdout",
     "output_type": "stream",
     "text": [
      "P(A/B) = 47.872%\n"
     ]
    }
   ],
   "source": [
    "# Calculating P(A/B) given P(A) = 30% , P(not A) = 70% , P(B/A) = 75% , P(congratulation/not spam) = 35%\n",
    "\n",
    "def bayes_laaw(p_a, p_b_given_a, p_b_given_not_a ):\n",
    "    # calculating P(B)\n",
    "    p_b = p_b_given_a * p_a + p_b_given_not_a * not_a\n",
    "    \n",
    "    # calculating P(A/B)\n",
    "    p_a_given_b = (p_b_given_a * p_a) / p_b\n",
    "    \n",
    "    return p_a_given_b\n",
    "\n",
    "p_a = 0.3\n",
    "p_b_given_a = 0.75\n",
    "p_b_given_not_a = 0.35\n",
    "p_not_a = 0.7\n",
    "\n",
    "result = bayes_law(p_a, p_b_given_a, p_b_given_not_a)\n",
    "print('P(A/B) = %.3f%%' % (result*100))\n",
    "    \n"
   ]
  },
  {
   "cell_type": "code",
   "execution_count": null,
   "id": "a48dfe2c",
   "metadata": {},
   "outputs": [],
   "source": []
  }
 ],
 "metadata": {
  "kernelspec": {
   "display_name": "Python 3",
   "language": "python",
   "name": "python3"
  },
  "language_info": {
   "codemirror_mode": {
    "name": "ipython",
    "version": 3
   },
   "file_extension": ".py",
   "mimetype": "text/x-python",
   "name": "python",
   "nbconvert_exporter": "python",
   "pygments_lexer": "ipython3",
   "version": "3.8.8"
  }
 },
 "nbformat": 4,
 "nbformat_minor": 5
}
